{
 "cells": [
  {
   "cell_type": "code",
   "execution_count": 1,
   "id": "66b41b78-9f12-463a-bb1a-ea411cdea856",
   "metadata": {},
   "outputs": [],
   "source": [
    "#Rai Adeel Jahanzeb Khan"
   ]
  },
  {
   "cell_type": "code",
   "execution_count": 2,
   "id": "8fe33822-386e-4962-bac2-d0ffe305b3f2",
   "metadata": {},
   "outputs": [],
   "source": [
    "#Question no.1"
   ]
  },
  {
   "cell_type": "code",
   "execution_count": 3,
   "id": "3f851454-7def-4e01-996b-8b80d155da6d",
   "metadata": {},
   "outputs": [
    {
     "name": "stdout",
     "output_type": "stream",
     "text": [
      "Date Time Function:\n",
      "Hello,Rai! The current time is 2024-11-28 22:51:12.366039.\n"
     ]
    }
   ],
   "source": [
    "print(\"Date Time Function:\")\n",
    "import datetime\n",
    "def greet_with_time(name):\n",
    "    current_time = datetime.datetime.now()\n",
    "    print(f\"Hello,{name}! The current time is {current_time}.\")\n",
    "greet_with_time(\"Rai\")"
   ]
  },
  {
   "cell_type": "code",
   "execution_count": 4,
   "id": "da2fc55e-cb5b-4a44-bd38-bc7155a15c81",
   "metadata": {},
   "outputs": [],
   "source": [
    "#Question no.2"
   ]
  },
  {
   "cell_type": "code",
   "execution_count": 5,
   "id": "7f14e165-28da-40d4-87cd-47d72b75791e",
   "metadata": {},
   "outputs": [
    {
     "name": "stdout",
     "output_type": "stream",
     "text": [
      "\n",
      "Function with Multiple Parameters:\n",
      "The average is: 20.0\n"
     ]
    }
   ],
   "source": [
    "print(\"\\nFunction with Multiple Parameters:\")\n",
    "def calculate_average(num1, num2, num3):\n",
    "    average = (num1 + num2 + num3) / 3\n",
    "    return average\n",
    "result = calculate_average(10, 20, 30)\n",
    "print(f\"The average is: {result}\")"
   ]
  },
  {
   "cell_type": "code",
   "execution_count": 6,
   "id": "9a95f64f-817d-40bb-b80e-a59e6a18937e",
   "metadata": {},
   "outputs": [],
   "source": [
    "#Question no .3"
   ]
  },
  {
   "cell_type": "code",
   "execution_count": 7,
   "id": "da87b585-c854-4130-ac5d-2078a9967755",
   "metadata": {},
   "outputs": [
    {
     "name": "stdout",
     "output_type": "stream",
     "text": [
      "\n",
      "Default Argument:\n",
      "The discounted price is: 900.0\n",
      "The discounted price with a 20% discount is: 800.0\n"
     ]
    }
   ],
   "source": [
    "print(\"\\nDefault Argument:\")\n",
    "def calculate_discount(price, discount_percentage=10):\n",
    "    discounted_price = price - (price * discount_percentage / 100)\n",
    "    return discounted_price\n",
    "original_price = 1000\n",
    "discounted_price = calculate_discount(original_price)\n",
    "print(f\"The discounted price is: {discounted_price}\")\n",
    "discounted_price_custom = calculate_discount(original_price, 20)\n",
    "print(f\"The discounted price with a 20% discount is: {discounted_price_custom}\")"
   ]
  },
  {
   "cell_type": "code",
   "execution_count": 8,
   "id": "b79fd982-6612-4cc0-92b2-d04b361a70e7",
   "metadata": {},
   "outputs": [],
   "source": [
    "#Question no .4"
   ]
  },
  {
   "cell_type": "code",
   "execution_count": 9,
   "id": "88febac1-4a0b-4ecd-b190-e50c25ac144d",
   "metadata": {},
   "outputs": [
    {
     "name": "stdout",
     "output_type": "stream",
     "text": [
      "\n",
      "Keyword Arguments:\n",
      "Name: Rai\n",
      "Age: 19\n",
      "City: Lahore\n"
     ]
    }
   ],
   "source": [
    "print(\"\\nKeyword Arguments:\")\n",
    "def print_info(*, name, age, city):\n",
    "    print(f\"Name: {name}\")\n",
    "    print(f\"Age: {age}\")\n",
    "    print(f\"City: {city}\")\n",
    "print_info(name=\"Rai\", age=19, city=\"Lahore\")"
   ]
  },
  {
   "cell_type": "code",
   "execution_count": 10,
   "id": "6f9f7a74-c7da-4628-a1b0-e42ce9b7f35b",
   "metadata": {},
   "outputs": [],
   "source": [
    "#Question no .5"
   ]
  },
  {
   "cell_type": "code",
   "execution_count": 11,
   "id": "8fd10049-8387-4df4-8530-1970dd87f5e8",
   "metadata": {},
   "outputs": [
    {
     "name": "stdout",
     "output_type": "stream",
     "text": [
      "\n",
      "Variable-Length Arguments:\n",
      "The maximum value is: 40\n",
      "The result with no arguments is: None\n"
     ]
    }
   ],
   "source": [
    "print(\"\\nVariable-Length Arguments:\")\n",
    "def find_max(*args):\n",
    "    if not args:\n",
    "        return None\n",
    "    return max(args)\n",
    "max_value = find_max(10, 20, 30, 5, 40)\n",
    "print(f\"The maximum value is: {max_value}\")\n",
    "no_value = find_max()\n",
    "print(f\"The result with no arguments is: {no_value}\")"
   ]
  },
  {
   "cell_type": "code",
   "execution_count": 12,
   "id": "156c1476-0c15-4949-b6f0-31bc929b3e3e",
   "metadata": {},
   "outputs": [],
   "source": [
    "#Question no .6"
   ]
  },
  {
   "cell_type": "code",
   "execution_count": 13,
   "id": "00b81c1c-5dcf-4bf2-99ce-1c3a46eca9c5",
   "metadata": {},
   "outputs": [
    {
     "name": "stdout",
     "output_type": "stream",
     "text": [
      "\n",
      "Recursive Function:\n",
      "40320\n"
     ]
    }
   ],
   "source": [
    "print(\"\\nRecursive Function:\")\n",
    "def factorial(n):\n",
    "    if n == 0 or n == 1:  \n",
    "        return 1\n",
    "    else:\n",
    "        return n * factorial(n - 1)  \n",
    "print(factorial(8)) "
   ]
  },
  {
   "cell_type": "code",
   "execution_count": 14,
   "id": "2d936ff3-681b-4335-83c8-226d67b18912",
   "metadata": {},
   "outputs": [],
   "source": [
    "#Question no.7"
   ]
  },
  {
   "cell_type": "code",
   "execution_count": 15,
   "id": "4a426cc5-0a26-41c9-ba9e-1f879987ccb2",
   "metadata": {},
   "outputs": [
    {
     "name": "stdout",
     "output_type": "stream",
     "text": [
      "\n",
      "Function as an Argument:\n",
      "[1, 4, 9, 16, 25]\n"
     ]
    }
   ],
   "source": [
    "print(\"\\nFunction as an Argument:\")\n",
    "def apply_function(func, numbers):\n",
    "    return [func(num) for num in numbers]\n",
    "def square(x):\n",
    "    return x * x\n",
    "nums = [1, 2, 3, 4, 5]\n",
    "squared_nums = apply_function(square, nums)\n",
    "print(squared_nums) "
   ]
  },
  {
   "cell_type": "code",
   "execution_count": 16,
   "id": "79c92f1d-7d3c-4e0d-aa39-3a5bf477115f",
   "metadata": {},
   "outputs": [],
   "source": [
    "#Question no .8"
   ]
  },
  {
   "cell_type": "code",
   "execution_count": 17,
   "id": "c3717a02-2fc3-47de-9a2c-8117a0bc6cd5",
   "metadata": {},
   "outputs": [
    {
     "name": "stdout",
     "output_type": "stream",
     "text": [
      "\n",
      "Lambda Functions:\n",
      "25\n"
     ]
    }
   ],
   "source": [
    "print(\"\\nLambda Functions:\")\n",
    "square = lambda x: x * x\n",
    "result = square(5)\n",
    "print(result) "
   ]
  },
  {
   "cell_type": "code",
   "execution_count": 18,
   "id": "3f5d4f57-bace-40d1-b1af-851c1cb800e3",
   "metadata": {},
   "outputs": [],
   "source": [
    "#Question no.9"
   ]
  },
  {
   "cell_type": "code",
   "execution_count": 19,
   "id": "376ee5e4-86b3-4b53-adb3-6fd332675792",
   "metadata": {},
   "outputs": [
    {
     "name": "stdout",
     "output_type": "stream",
     "text": [
      "\n",
      "Higher-Order Functions:\n",
      "[1, 4, 9, 16]\n"
     ]
    }
   ],
   "source": [
    "print(\"\\nHigher-Order Functions:\")\n",
    "#Higher-order Function\n",
    "def apply_operation(func, numbers):\n",
    "    return [func(num) for num in numbers]\n",
    "result = apply_operation(lambda x: x ** 2, [1, 2, 3, 4])\n",
    "print(result)  "
   ]
  },
  {
   "cell_type": "code",
   "execution_count": null,
   "id": "0a708198-d42f-408b-b061-7164563d1e96",
   "metadata": {},
   "outputs": [],
   "source": []
  }
 ],
 "metadata": {
  "kernelspec": {
   "display_name": "Python 3 (ipykernel)",
   "language": "python",
   "name": "python3"
  },
  "language_info": {
   "codemirror_mode": {
    "name": "ipython",
    "version": 3
   },
   "file_extension": ".py",
   "mimetype": "text/x-python",
   "name": "python",
   "nbconvert_exporter": "python",
   "pygments_lexer": "ipython3",
   "version": "3.12.4"
  }
 },
 "nbformat": 4,
 "nbformat_minor": 5
}
